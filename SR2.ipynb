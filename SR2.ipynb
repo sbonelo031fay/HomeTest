{
 "cells": [
  {
   "cell_type": "markdown",
   "id": "a7f7ac01-5a55-4c59-b148-6deeda734233",
   "metadata": {},
   "source": [
    "# SR2 - Pre-processing"
   ]
  },
  {
   "cell_type": "code",
   "execution_count": 2,
   "id": "376e9e5c-0dbb-40a8-8221-aaeb616d6627",
   "metadata": {},
   "outputs": [],
   "source": [
    "import pandas as pd "
   ]
  },
  {
   "cell_type": "code",
   "execution_count": 4,
   "id": "2be4a918-006c-4059-92a1-2bacb5a4999e",
   "metadata": {},
   "outputs": [
    {
     "name": "stdout",
     "output_type": "stream",
     "text": [
      "The size is:  9548\n"
     ]
    }
   ],
   "source": [
    "# Reading CSV file\n",
    "df = pd.read_csv(r\"C:\\Users\\LENOVO\\OneDrive\\Desktop\\bky6-3za5.csv\")\n",
    "\n",
    "# Inspecting the size of the dataset\n",
    "print(\"The size is: \", df.size)"
   ]
  },
  {
   "cell_type": "code",
   "execution_count": 5,
   "id": "85cc6108-5b93-4b88-a43e-f9d1b537401b",
   "metadata": {},
   "outputs": [
    {
     "name": "stdout",
     "output_type": "stream",
     "text": [
      "Data types: is_cluster                  object\n",
      "pocket_name                 object\n",
      "pocket_alias                object\n",
      "ward_id                      int64\n",
      "ward_councillor             object\n",
      "avg_hhsize                 float64\n",
      "area_ha                    float64\n",
      "density_dwellings          float64\n",
      "structure_count              int64\n",
      "age_of_is                   object\n",
      "upgrade_category            object\n",
      "temp_sanitation            float64\n",
      "toilets_full_flush         float64\n",
      "toilets_chemical           float64\n",
      "toilets_portable           float64\n",
      "toilets_container          float64\n",
      "toilets_other              float64\n",
      "toilets_total              float64\n",
      "ratio_toilets_dwellings     object\n",
      "pocket_code                 object\n",
      "centroidx                  float64\n",
      "centroidy                  float64\n",
      "dtype: object\n"
     ]
    }
   ],
   "source": [
    "# checking datatypes\n",
    "print(\"Data types:\", df.dtypes)\n"
   ]
  },
  {
   "cell_type": "code",
   "execution_count": 6,
   "id": "c6bb501b-9e96-4ef0-86f6-fed1cad60e9f",
   "metadata": {},
   "outputs": [
    {
     "name": "stdout",
     "output_type": "stream",
     "text": [
      "Sum of missing values: is_cluster                   0\n",
      "pocket_name                  0\n",
      "pocket_alias               242\n",
      "ward_id                      0\n",
      "ward_councillor              0\n",
      "avg_hhsize                   0\n",
      "area_ha                      0\n",
      "density_dwellings            0\n",
      "structure_count              0\n",
      "age_of_is                    0\n",
      "upgrade_category             0\n",
      "temp_sanitation              0\n",
      "toilets_full_flush           0\n",
      "toilets_chemical             0\n",
      "toilets_portable             0\n",
      "toilets_container            0\n",
      "toilets_other                0\n",
      "toilets_total                0\n",
      "ratio_toilets_dwellings     91\n",
      "pocket_code                  0\n",
      "centroidx                    0\n",
      "centroidy                    0\n",
      "dtype: int64\n"
     ]
    }
   ],
   "source": [
    "# Identify missing data\n",
    "missing_values = df.isnull().sum()\n",
    "print(\"Sum of missing values:\", missing_values)"
   ]
  },
  {
   "cell_type": "code",
   "execution_count": null,
   "id": "cb3d84c6-2ffa-4c40-920f-ba5ddff7a8a1",
   "metadata": {},
   "outputs": [],
   "source": []
  }
 ],
 "metadata": {
  "kernelspec": {
   "display_name": "Python 3 (ipykernel)",
   "language": "python",
   "name": "python3"
  },
  "language_info": {
   "codemirror_mode": {
    "name": "ipython",
    "version": 3
   },
   "file_extension": ".py",
   "mimetype": "text/x-python",
   "name": "python",
   "nbconvert_exporter": "python",
   "pygments_lexer": "ipython3",
   "version": "3.12.3"
  }
 },
 "nbformat": 4,
 "nbformat_minor": 5
}
