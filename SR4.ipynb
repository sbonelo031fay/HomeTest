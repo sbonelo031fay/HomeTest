{
 "cells": [
  {
   "cell_type": "markdown",
   "id": "67bdf288-3c28-4d40-9c80-84ef037bdf6a",
   "metadata": {},
   "source": [
    "# SR 4.1: Sort Algorithm"
   ]
  },
  {
   "cell_type": "code",
   "execution_count": 1,
   "id": "78cafe4e-dd5e-420f-90d9-b02269f6a995",
   "metadata": {},
   "outputs": [],
   "source": [
    "import pandas as pd\n",
    "\n",
    "df = pd.read_csv(r\"C:\\Users\\LENOVO\\OneDrive\\Desktop\\bky6-3za5.csv\")"
   ]
  },
  {
   "cell_type": "markdown",
   "id": "d49edd6d-2c91-4df3-b3cf-1cd2b429e090",
   "metadata": {},
   "source": [
    "### Selection Sort"
   ]
  },
  {
   "cell_type": "code",
   "execution_count": 5,
   "id": "ef049b9d-3f4f-4671-9ee9-7d7d3824f68d",
   "metadata": {},
   "outputs": [
    {
     "name": "stdout",
     "output_type": "stream",
     "text": [
      "0         0\n",
      "1         1\n",
      "2         3\n",
      "3         3\n",
      "4         3\n",
      "       ... \n",
      "429    4759\n",
      "430    5952\n",
      "431    6086\n",
      "432    6662\n",
      "433    7963\n",
      "Name: structure_count, Length: 434, dtype: int64\n"
     ]
    }
   ],
   "source": [
    "print(df['structure_count'])"
   ]
  },
  {
   "cell_type": "code",
   "execution_count": 6,
   "id": "bd8fe756-244e-4b37-baee-357f73eccf70",
   "metadata": {},
   "outputs": [
    {
     "name": "stdout",
     "output_type": "stream",
     "text": [
      "0         0\n",
      "1         1\n",
      "2         3\n",
      "3         3\n",
      "4         3\n",
      "       ... \n",
      "429    4759\n",
      "430    5952\n",
      "431    6086\n",
      "432    6662\n",
      "433    7963\n",
      "Name: structure_count, Length: 434, dtype: int64\n"
     ]
    }
   ],
   "source": [
    "def selection_sort(data):\n",
    "    \"\"\"\n",
    "    Perform a selection sort on the data list.\n",
    "\n",
    "    Parameters:\n",
    "    data (list): The list to be sorted.\n",
    "\n",
    "    Returns:\n",
    "    list: The sorted list.\n",
    "    \"\"\"\n",
    "    # Traverse through all list elements\n",
    "    for i in range(len(data)):\n",
    "        # Find the minimum element in remaining unsorted array\n",
    "        min_index = i\n",
    "        for j in range(i+1, len(data)):\n",
    "            if data[j] < data[min_index]:\n",
    "                min_index = j\n",
    "\n",
    "        # Swap the found minimum element with the first element\n",
    "        data[i], data[min_index] = data[min_index], data[i]\n",
    "\n",
    "    return data\n",
    "\n",
    "# Column to be sorted\n",
    "data = df['structure_count'].tolist()  # Converts the 'structure_count' column to a list\n",
    "sorted_data = selection_sort(data)  # Sorts the data using selection sort\n",
    "df['structure_count'] = sorted_data  # Updates the DataFrame with the sorted data\n",
    "\n",
    "print(df['structure_count'])"
   ]
  },
  {
   "cell_type": "markdown",
   "id": "bac9a9c7-0b2a-492f-8244-8b5ac24c07ff",
   "metadata": {},
   "source": [
    "# SR 4.2: Algorithm Implementation: Search algorithm \n",
    "\n",
    "\n",
    "When comparing the performance of linear search and binary search, binary search is generally faster, but the context and conditions matter. \n",
    "\n",
    "# 1. Linear Search\n",
    "**Definition**: Linear search scans each element in the list sequentially until the target value is found or the list ends.\n",
    "\n",
    "**Time Complexity**: O(n), where n is the number of elements in the list.\n",
    "\n",
    "**Performance**: On average, it takes more time because it may need to check each element in the worst case.\n",
    "# 2. Binary Search\n",
    "**Definition:** Binary search repeatedly divides a sorted list in half to find the target value.\n",
    "\n",
    "**Time Complexity**: O(log n), where n is the number of elements in the list.\n",
    "\n",
    "**Performance:** It is significantly faster for large lists because the number of comparisons needed grows very slowly with the size of the list.\n",
    "\n",
    "# Comparison\n",
    "**Speed:**\n",
    "- Binary Search is faster because it reduces the problem size by half each time, leading to fewer comparisons.\n",
    "- Linear Search checks each element one by one, making it slower, especially as the list grows larger.\n",
    "  \n",
    "**Conditions:**\n",
    "- Binary search requires the list to be sorted, which may involve an additional cost if sorting is needed.\n",
    "- Linear search works on both sorted and unsorted lists."
   ]
  },
  {
   "cell_type": "markdown",
   "id": "03531dfe-e1bb-4e07-bdcb-670a64557ff6",
   "metadata": {},
   "source": [
    "### Linear Search\n"
   ]
  },
  {
   "cell_type": "code",
   "execution_count": 7,
   "id": "936b3803-0ed4-407b-b09a-34ebbf83b2e0",
   "metadata": {},
   "outputs": [
    {
     "name": "stdout",
     "output_type": "stream",
     "text": [
      "Element 1 found at index 1.\n"
     ]
    }
   ],
   "source": [
    "\n",
    "\n",
    "def linear_search(data, target):\n",
    "    # Loop over each element in 'data' using enumerate to get both index and value\n",
    "    for index, value in enumerate(data):\n",
    "        # Check if the current element 'value' is equal to the 'target'\n",
    "        if value == target:\n",
    "            # If the target is found, return the current index\n",
    "            return index\n",
    "    # If the loop completes and the target is not found, return -1\n",
    "    return -1\n",
    "\n",
    "\n",
    "data = df['structure_count']  # Extract the 'structure_count' column from the DataFrame\n",
    "target = 1  # The element we are searching for in the data\n",
    "pos = linear_search(data, target)  # Call the linear search function\n",
    "\n",
    "# Check if the target was found (i.e., 'pos' is not -1)\n",
    "if pos != -1:\n",
    "    # Print the index where the target was found\n",
    "    print(f\"Element {target} found at index {pos}.\")\n",
    "else:\n",
    "    # Print that the target was not found in the dataset\n",
    "    print(\"Element not found.\")\n",
    "\n",
    "    "
   ]
  },
  {
   "cell_type": "markdown",
   "id": "f754bafe-dc50-46ca-bfd0-f59c08c7a7c7",
   "metadata": {},
   "source": [
    "### Binary Search"
   ]
  },
  {
   "cell_type": "code",
   "execution_count": 9,
   "id": "b6d64513-425d-4ddb-9742-f146be3cb46c",
   "metadata": {},
   "outputs": [
    {
     "name": "stdout",
     "output_type": "stream",
     "text": [
      "Element 1 found at index 1.\n"
     ]
    }
   ],
   "source": [
    "# Binary Search\n",
    "def binary_search(data, target):\n",
    "    \"\"\"\n",
    "    Perform a binary search for the target in the sorted data list.\n",
    "\n",
    "    Parameters:\n",
    "    data (list): The sorted list to search through.\n",
    "    target: The element to search for.\n",
    "\n",
    "    Returns:\n",
    "    int: The index of the target if found, else -1.\n",
    "    \"\"\"\n",
    "    #\n",
    "    left = 0 \n",
    "    right = len(data) - 1 \n",
    "\n",
    "    while left <= right:\n",
    "        mid = (left + right) // 2\n",
    "        mid_value = data[mid]\n",
    "\n",
    "        if mid_value == target:\n",
    "            return mid  # Target found, return its index\n",
    "        elif mid_value < target:\n",
    "            left = mid + 1  # Ignore the left half\n",
    "        else:\n",
    "            right = mid - 1  # Ignore the right half\n",
    "\n",
    "    return -1  # Target not found\n",
    "\n",
    "# Example usage:\n",
    "target = 1\n",
    "sorted_data = selection_sort(df['structure_count'].tolist())  # Sort the data\n",
    "pos = binary_search(sorted_data, target)  # Perform binary search on sorted data\n",
    "\n",
    "if pos != -1:\n",
    "    print(f\"Element {target} found at index {pos}.\")\n",
    "else:\n",
    "    print(\"Element not found.\")\n"
   ]
  },
  {
   "cell_type": "code",
   "execution_count": null,
   "id": "e961e77f-ee4b-4d1c-8476-d2b37e6e8b60",
   "metadata": {},
   "outputs": [],
   "source": []
  }
 ],
 "metadata": {
  "kernelspec": {
   "display_name": "Python 3 (ipykernel)",
   "language": "python",
   "name": "python3"
  },
  "language_info": {
   "codemirror_mode": {
    "name": "ipython",
    "version": 3
   },
   "file_extension": ".py",
   "mimetype": "text/x-python",
   "name": "python",
   "nbconvert_exporter": "python",
   "pygments_lexer": "ipython3",
   "version": "3.12.3"
  }
 },
 "nbformat": 4,
 "nbformat_minor": 5
}
