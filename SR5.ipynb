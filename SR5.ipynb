{
 "cells": [
  {
   "cell_type": "markdown",
   "id": "f945b0e3-0804-4a1a-8d9c-58a704cd8f16",
   "metadata": {},
   "source": [
    "# SR5\n",
    "## Efficiency of the Heap Sort Algorithm\n",
    "## Time Complexity:\n",
    "### Building the Heap:\n",
    "\n",
    "- Building a max heap (or min heap) from an unsorted array takes O(n) time. This is because while each individual heapify operation on a node takes O(log n) time, there are only n/2 non-leaf nodes to heapify, and the depth of these operations varies.\n",
    "\n",
    "- Therefore, the overall time complexity for building the heap is O(n).\n",
    "\n",
    "### Extracting Elements:\n",
    "\n",
    "- After the heap is built, we repeatedly extract the maximum element (for a max heap) and move it to the end of the array. Each extraction involves removing the root of the heap and then heapifying the root element, which takes O(log n) time.\n",
    "\n",
    "- Since we need to perform this operation n times (once for each element in the heap), the time complexity for the extraction phase is O(n log n).\n",
    "\n",
    "Combining both phases, the overall time complexity of heap sort is:\n",
    "\n",
    "- O(n log n)\n",
    "\n",
    "### Space Complexity:\n",
    "Heap sort is an in-place sorting algorithm, which means it requires only a constant amount of additional space beyond the input array:\n",
    "\n",
    "- O(1) for auxiliary space."
   ]
  },
  {
   "cell_type": "code",
   "execution_count": null,
   "id": "df892529-6a7a-4345-a49e-26c0772b0615",
   "metadata": {},
   "outputs": [],
   "source": []
  }
 ],
 "metadata": {
  "kernelspec": {
   "display_name": "Python 3 (ipykernel)",
   "language": "python",
   "name": "python3"
  },
  "language_info": {
   "codemirror_mode": {
    "name": "ipython",
    "version": 3
   },
   "file_extension": ".py",
   "mimetype": "text/x-python",
   "name": "python",
   "nbconvert_exporter": "python",
   "pygments_lexer": "ipython3",
   "version": "3.12.3"
  }
 },
 "nbformat": 4,
 "nbformat_minor": 5
}
